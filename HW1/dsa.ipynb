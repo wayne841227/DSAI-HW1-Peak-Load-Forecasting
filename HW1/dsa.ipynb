{
 "cells": [
  {
   "cell_type": "markdown",
   "metadata": {},
   "source": [
    "# 使用lightGBM套件"
   ]
  },
  {
   "cell_type": "code",
   "execution_count": 1,
   "metadata": {
    "scrolled": true
   },
   "outputs": [
    {
     "name": "stderr",
     "output_type": "stream",
     "text": [
      "/Users/wayne/anaconda3/envs/my_env_for_dsa/lib/python3.6/site-packages/lightgbm/__init__.py:46: UserWarning: Starting from version 2.2.1, the library file in distribution wheels for macOS is built by the Apple Clang (Xcode_9.4.1) compiler.\n",
      "This means that in case of installing LightGBM from PyPI via the ``pip install lightgbm`` command, you don't need to install the gcc compiler anymore.\n",
      "Instead of that, you need to install the OpenMP library, which is required for running LightGBM on the system with the Apple Clang compiler.\n",
      "You can install the OpenMP library by the following command: ``brew install libomp``.\n",
      "  \"You can install the OpenMP library by the following command: ``brew install libomp``.\", UserWarning)\n"
     ]
    }
   ],
   "source": [
    "from sklearn.svm import SVR\n",
    "import matplotlib.pyplot as plt\n",
    "import numpy as np\n",
    "import lightgbm as lgb"
   ]
  },
  {
   "cell_type": "code",
   "execution_count": 2,
   "metadata": {
    "scrolled": false
   },
   "outputs": [],
   "source": [
    "import csv\n",
    "\n",
    "\n",
    "#開啟 CSV 檔案\n",
    "with open('台灣電力公司_過去電力供需資訊2018-201902.csv', newline='') as csvfile:\n",
    "\n",
    "    #讀取 CSV 檔內容，將每一列轉成一個 dictionary\n",
    "    rows = csv.DictReader(csvfile)\n",
    "    datas_2018_201902 = []\n",
    "    #以迴圈輸出指定欄位\n",
    "    for row in rows:\n",
    "        data = []\n",
    "        data.append(float(row['\\ufeff日期']))\n",
    "        data.append(float(row['尖峰負載(MW)']))\n",
    "        data.append(float(row['備轉容量(MW)']))\n",
    "        data.append(float(row['備轉容量率(%)']))\n",
    "        datas_2018_201902.append(data)"
   ]
  },
  {
   "cell_type": "markdown",
   "metadata": {},
   "source": [
    "讀取資料集，取出所需的attribute，存成list"
   ]
  },
  {
   "cell_type": "code",
   "execution_count": 3,
   "metadata": {
    "scrolled": true
   },
   "outputs": [],
   "source": [
    "new_data_list_x = []\n",
    "\n",
    "week_x = 0\n",
    "for i in range(len(datas_2018_201902)-(len(datas_2018_201902)%7)-7):\n",
    "    week_x += 1\n",
    "    new_data = []\n",
    "    if datas_2018_201902[i+6]:\n",
    "        for j in range(7):\n",
    "            if week_x < 7:\n",
    "                new_data.append(float(datas_2018_201902[i+j][1]))\n",
    "                new_data.append(float(datas_2018_201902[i+j][2]))\n",
    "                new_data.append(week_x)\n",
    "            else:\n",
    "                new_data.append(float(datas_2018_201902[i+j][1]))\n",
    "                new_data.append(float(datas_2018_201902[i+j][2]))\n",
    "                new_data.append(week_x)\n",
    "                week_x = 0\n",
    "    new_data_list_x.append(new_data)"
   ]
  },
  {
   "cell_type": "markdown",
   "metadata": {},
   "source": [
    "以7天為單位，每次取出負載容量及備載容量，並新增星期幾為新的attribute"
   ]
  },
  {
   "cell_type": "code",
   "execution_count": 4,
   "metadata": {
    "scrolled": true
   },
   "outputs": [],
   "source": [
    "new_data_list_y = []\n",
    "for i in range(len(datas_2018_201902)):\n",
    "    new_data = []\n",
    "    if i >= 7 and len(new_data_list_y)<len(new_data_list_x):\n",
    "        new_data.append(float(datas_2018_201902[i][1]))\n",
    "        \n",
    "        new_data_list_y.append(new_data)"
   ]
  },
  {
   "cell_type": "markdown",
   "metadata": {},
   "source": [
    "取出7天後，第8天的負載容量作為target"
   ]
  },
  {
   "cell_type": "code",
   "execution_count": 5,
   "metadata": {},
   "outputs": [],
   "source": [
    "datas_x_array = np.array(new_data_list_x)\n",
    "datas_y_array = np.array(new_data_list_y)\n",
    "\n",
    "y_train = datas_y_array.ravel()\n",
    "X_train = datas_x_array\n",
    "\n",
    "X_test = [[28535, 1853, 1, 28756,1887,2,29140,1933,3,30093,1892,4,29673,2054,5,25810,2155,6,24466,2298,7]]\n",
    "\n",
    "lgb_train = lgb.Dataset(X_train, y_train)"
   ]
  },
  {
   "cell_type": "markdown",
   "metadata": {},
   "source": [
    "初始X_test為前一週03/25~03/31 的資料"
   ]
  },
  {
   "cell_type": "code",
   "execution_count": 6,
   "metadata": {},
   "outputs": [],
   "source": [
    "# specify your configurations as a dict\n",
    "params = {\n",
    "    'boosting_type': 'gbdt',\n",
    "    'objective': 'regression',\n",
    "    'metric': {'l2', 'l1'},\n",
    "    'num_leaves': 31,\n",
    "    'learning_rate': 0.05,\n",
    "    'feature_fraction': 0.9,\n",
    "    'bagging_fraction': 0.8,\n",
    "    'bagging_freq': 5,\n",
    "    'verbose': 0\n",
    "}\n",
    "\n",
    "#print('Starting training...')\n",
    "#train\n",
    "gbm = lgb.train(params,\n",
    "                lgb_train,\n",
    "                num_boost_round=100,\n",
    "                valid_sets=None)\n",
    "\n",
    "# save model to file\n",
    "#gbm.save_model('model.txt')"
   ]
  },
  {
   "cell_type": "markdown",
   "metadata": {},
   "source": [
    "lightgbm參數設定"
   ]
  },
  {
   "cell_type": "code",
   "execution_count": 7,
   "metadata": {},
   "outputs": [],
   "source": [
    "# predict\n",
    "#X_test = [[28535, 1853, 1, 28756,1887,2,29140,1933,3,30093,1892,4,29673,2054,5,25810,2155,6,24466,2298,7]]\n",
    "operating_reserve_0401 = float(1870)\n",
    "operating_reserve_0402_0408 = [1860,1960,2440,2460,2670,2430,2100]\n",
    "y_pred_0401 = gbm.predict(X_test, num_iteration=gbm.best_iteration)\n",
    "#0401\n",
    "for j in X_test:\n",
    "    j.pop(0)\n",
    "    j.pop(0)\n",
    "    j.pop(0)\n",
    "    j.append(y_pred_0401[0])\n",
    "    j.append(float(operating_reserve_0401))\n",
    "    j.append(1)"
   ]
  },
  {
   "cell_type": "markdown",
   "metadata": {},
   "source": [
    "預測出04/01的負載容量，使用\"台灣電力公司_未來一週電力供需預測\"中的備載容量作為attribute\n",
    "拿到X_test中第一天的資料，新增04/01的資料上去\n",
    "此時X_test資料為03/26~04/01"
   ]
  },
  {
   "cell_type": "code",
   "execution_count": 8,
   "metadata": {},
   "outputs": [],
   "source": [
    "y_pred_list = []\n",
    "for i in range(7):\n",
    "    y_pred = gbm.predict(X_test, num_iteration=gbm.best_iteration)\n",
    "    for j in X_test:\n",
    "        j.pop(0)\n",
    "        j.pop(0)\n",
    "        j.pop(0)\n",
    "        j.append(y_pred)\n",
    "        j.append(float(operating_reserve_0402_0408[i]))\n",
    "        if i > 7:\n",
    "            j.append(i-7)\n",
    "        else:\n",
    "            j.append(i)\n",
    "    y_pred_list.append(y_pred[0])"
   ]
  },
  {
   "cell_type": "markdown",
   "metadata": {},
   "source": [
    "用迴圈依序得到預測的資料，並持續對X_test做修正，直到得出04/02~04/08的負載容量為止"
   ]
  },
  {
   "cell_type": "code",
   "execution_count": 9,
   "metadata": {},
   "outputs": [],
   "source": [
    "print_days = [20190402,20190403,20190404,20190405,20190406,20190407,20190408]\n",
    "\n",
    "# 開啟輸出的 CSV 檔案\n",
    "with open('submission.csv', 'w', newline='') as csvfile:\n",
    "  # 建立 CSV 檔寫入器\n",
    "    writer = csv.writer(csvfile)\n",
    "\n",
    "  # 寫入一列資料\n",
    "    writer.writerow(['date', 'peak_load(MW)'])\n",
    "\n",
    "  # 寫入另外幾列資料\n",
    "    for i in range(7):\n",
    "        writer.writerow([print_days[i], y_pred_list[i]])\n"
   ]
  },
  {
   "cell_type": "markdown",
   "metadata": {},
   "source": [
    "輸出至submission.csv"
   ]
  }
 ],
 "metadata": {
  "kernelspec": {
   "display_name": "Python 3",
   "language": "python",
   "name": "python3"
  },
  "language_info": {
   "codemirror_mode": {
    "name": "ipython",
    "version": 3
   },
   "file_extension": ".py",
   "mimetype": "text/x-python",
   "name": "python",
   "nbconvert_exporter": "python",
   "pygments_lexer": "ipython3",
   "version": "3.6.8"
  }
 },
 "nbformat": 4,
 "nbformat_minor": 2
}
